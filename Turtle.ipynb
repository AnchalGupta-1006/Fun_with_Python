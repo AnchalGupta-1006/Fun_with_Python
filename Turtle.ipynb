{
 "cells": [
  {
   "cell_type": "code",
   "execution_count": 3,
   "id": "6d95919b",
   "metadata": {},
   "outputs": [],
   "source": [
    "from turtle import *\n",
    "import random\n",
    "\n",
    "speed(speed ='fastest')\n",
    "\n",
    "def draw(n, x, angle):\n",
    "# loop for number of stars\n",
    "    for i in range(n):\n",
    "\n",
    "        colormode(255)\n",
    "\n",
    "# choosing random integers\n",
    "# between 0 and 255\n",
    "# to generate random rgb values\n",
    "        a = random.randint(0, 255)\n",
    "        b = random.randint(0, 255)\n",
    "        c = random.randint(0, 255)\n",
    "\n",
    "# setting the outline\n",
    "# and fill colour\n",
    "        pencolor(a, b, c)\n",
    "        fillcolor(a, b, c)\n",
    "\n",
    "# begins filling the star\n",
    "        begin_fill()\n",
    "\n",
    "# loop for drawing each star\n",
    "    for j in range(5):\n",
    "\n",
    "        forward(5 * n-5 * i)\n",
    "        right(x)\n",
    "        forward(5 * n-5 * i)\n",
    "        right(72 - x)\n",
    "\n",
    "# colour filling complete\n",
    "        end_fill()\n",
    "\n",
    "# rotating for\n",
    "# the next star\n",
    "rt(angle)\n",
    "\n",
    "\n",
    "# setting the parameters\n",
    "n = 30 # number of stars\n",
    "x = 144 # exterior angle of each star\n",
    "angle = 18 # angle of rotation for the spiral\n",
    "\n",
    "draw(n, x, angle)"
   ]
  },
  {
   "cell_type": "code",
   "execution_count": null,
   "id": "65ce77ef",
   "metadata": {},
   "outputs": [],
   "source": []
  }
 ],
 "metadata": {
  "kernelspec": {
   "display_name": "Python 3",
   "language": "python",
   "name": "python3"
  },
  "language_info": {
   "codemirror_mode": {
    "name": "ipython",
    "version": 3
   },
   "file_extension": ".py",
   "mimetype": "text/x-python",
   "name": "python",
   "nbconvert_exporter": "python",
   "pygments_lexer": "ipython3",
   "version": "3.8.8"
  }
 },
 "nbformat": 4,
 "nbformat_minor": 5
}
